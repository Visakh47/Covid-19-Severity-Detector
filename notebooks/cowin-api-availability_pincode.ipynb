{
 "cells": [
  {
   "cell_type": "code",
   "execution_count": 1,
   "metadata": {},
   "outputs": [],
   "source": [
    "import requests\n",
    "import datetime\n",
    "import json\n",
    "from fake_useragent import UserAgent"
   ]
  },
  {
   "cell_type": "code",
   "execution_count": 2,
   "metadata": {},
   "outputs": [],
   "source": [
    "temp_user_agent = UserAgent()\n",
    "browser_header = {'User-Agent': temp_user_agent.random}"
   ]
  },
  {
   "cell_type": "code",
   "execution_count": 3,
   "metadata": {},
   "outputs": [],
   "source": [
    "POST_CODE = \"400708\"\n",
    "age = 52\n",
    "\n",
    "# Print details flag\n",
    "print_flag = 'Y'\n",
    "\n",
    "numdays = 20"
   ]
  },
  {
   "cell_type": "code",
   "execution_count": 4,
   "metadata": {},
   "outputs": [],
   "source": [
    "base = datetime.datetime.today()\n",
    "date_list = [base + datetime.timedelta(days=x) for x in range(numdays)]\n",
    "date_str = [x.strftime(\"%d-%m-%Y\") for x in date_list]"
   ]
  },
  {
   "cell_type": "code",
   "execution_count": 5,
   "metadata": {},
   "outputs": [
    {
     "name": "stdout",
     "output_type": "stream",
     "text": [
      "No available slots on 16-05-2021\n",
      "No available slots on 17-05-2021\n",
      "No available slots on 18-05-2021\n",
      "No available slots on 19-05-2021\n",
      "No available slots on 20-05-2021\n",
      "No available slots on 21-05-2021\n",
      "No available slots on 22-05-2021\n",
      "No available slots on 23-05-2021\n",
      "No available slots on 24-05-2021\n",
      "No available slots on 25-05-2021\n",
      "No available slots on 26-05-2021\n",
      "No available slots on 27-05-2021\n",
      "No available slots on 28-05-2021\n",
      "No available slots on 29-05-2021\n",
      "No available slots on 30-05-2021\n",
      "No available slots on 31-05-2021\n",
      "No available slots on 01-06-2021\n",
      "No available slots on 02-06-2021\n",
      "No available slots on 03-06-2021\n",
      "No available slots on 04-06-2021\n"
     ]
    }
   ],
   "source": [
    "for INP_DATE in date_str:\n",
    "    URL = \"https://cdn-api.co-vin.in/api/v2/appointment/sessions/public/calendarByPin?pincode={}&date={}\".format(POST_CODE, INP_DATE)\n",
    "    response = requests.get(URL, headers=browser_header)\n",
    "    if response.ok:\n",
    "        resp_json = response.json()\n",
    "        # print(json.dumps(resp_json, indent = 1))\n",
    "        flag = False\n",
    "        if resp_json[\"centers\"]:\n",
    "            print(\"Available on: {}\".format(INP_DATE))\n",
    "            if(print_flag=='y' or print_flag=='Y'):\n",
    "                for center in resp_json[\"centers\"]:\n",
    "                    for session in center[\"sessions\"]:\n",
    "                        if session[\"min_age_limit\"] <= age:\n",
    "                            print(\"\\t\", center[\"name\"])\n",
    "                            print(\"\\t\", center[\"block_name\"])\n",
    "                            print(\"\\t Price: \", center[\"fee_type\"])\n",
    "                            print(\"\\t Available Capacity: \", session[\"available_capacity\"])\n",
    "                            if(session[\"vaccine\"] != ''):\n",
    "                                print(\"\\t Vaccine: \", session[\"vaccine\"])\n",
    "                            print(\"\\n\\n\")\n",
    "                            \n",
    "            \n",
    "                \n",
    "        else:\n",
    "            print(\"No available slots on {}\".format(INP_DATE))"
   ]
  },
  {
   "cell_type": "code",
   "execution_count": null,
   "metadata": {},
   "outputs": [],
   "source": []
  }
 ],
 "metadata": {
  "kernelspec": {
   "display_name": "Python 3",
   "language": "python",
   "name": "python3"
  },
  "language_info": {
   "codemirror_mode": {
    "name": "ipython",
    "version": 3
   },
   "file_extension": ".py",
   "mimetype": "text/x-python",
   "name": "python",
   "nbconvert_exporter": "python",
   "pygments_lexer": "ipython3",
   "version": "3.8.3"
  }
 },
 "nbformat": 4,
 "nbformat_minor": 2
}
