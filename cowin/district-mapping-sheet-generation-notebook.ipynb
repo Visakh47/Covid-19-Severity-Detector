{
 "cells": [
  {
   "cell_type": "code",
   "execution_count": 1,
   "metadata": {},
   "outputs": [],
   "source": [
    "import requests\n",
    "import datetime\n",
    "import json\n",
    "import pandas as pd\n",
    "from fake_useragent import UserAgent"
   ]
  },
  {
   "cell_type": "code",
   "execution_count": 2,
   "metadata": {},
   "outputs": [],
   "source": [
    "def merge_dfs(df1, df2, key, type_of_inp):\n",
    "    merged_df = pd.merge(df1, df2, on=key, how=type_of_inp)\n",
    "    return merged_df"
   ]
  },
  {
   "cell_type": "code",
   "execution_count": 3,
   "metadata": {},
   "outputs": [],
   "source": [
    "temp_user_agent = UserAgent()\n",
    "browser_header = {'User-Agent': temp_user_agent.random}"
   ]
  },
  {
   "cell_type": "code",
   "execution_count": 4,
   "metadata": {},
   "outputs": [],
   "source": [
    "state_id_mapping_response = requests.get(\"https://cdn-api.co-vin.in/api/v2/admin/location/states\",\n",
    "                                         headers=browser_header)"
   ]
  },
  {
   "cell_type": "code",
   "execution_count": 5,
   "metadata": {},
   "outputs": [],
   "source": [
    "state_to_id_mapping_df = pd.DataFrame(json.loads(state_id_mapping_response.text)[\"states\"])"
   ]
  },
  {
   "cell_type": "code",
   "execution_count": 6,
   "metadata": {},
   "outputs": [
    {
     "data": {
      "text/html": [
       "<div>\n",
       "<style scoped>\n",
       "    .dataframe tbody tr th:only-of-type {\n",
       "        vertical-align: middle;\n",
       "    }\n",
       "\n",
       "    .dataframe tbody tr th {\n",
       "        vertical-align: top;\n",
       "    }\n",
       "\n",
       "    .dataframe thead th {\n",
       "        text-align: right;\n",
       "    }\n",
       "</style>\n",
       "<table border=\"1\" class=\"dataframe\">\n",
       "  <thead>\n",
       "    <tr style=\"text-align: right;\">\n",
       "      <th></th>\n",
       "      <th>state_id</th>\n",
       "      <th>state_name</th>\n",
       "    </tr>\n",
       "  </thead>\n",
       "  <tbody>\n",
       "    <tr>\n",
       "      <th>0</th>\n",
       "      <td>1</td>\n",
       "      <td>Andaman and Nicobar Islands</td>\n",
       "    </tr>\n",
       "    <tr>\n",
       "      <th>1</th>\n",
       "      <td>2</td>\n",
       "      <td>Andhra Pradesh</td>\n",
       "    </tr>\n",
       "    <tr>\n",
       "      <th>2</th>\n",
       "      <td>3</td>\n",
       "      <td>Arunachal Pradesh</td>\n",
       "    </tr>\n",
       "  </tbody>\n",
       "</table>\n",
       "</div>"
      ],
      "text/plain": [
       "   state_id                   state_name\n",
       "0         1  Andaman and Nicobar Islands\n",
       "1         2               Andhra Pradesh\n",
       "2         3            Arunachal Pradesh"
      ]
     },
     "execution_count": 6,
     "metadata": {},
     "output_type": "execute_result"
    }
   ],
   "source": [
    "state_to_id_mapping_df.head(3)"
   ]
  },
  {
   "cell_type": "code",
   "execution_count": 7,
   "metadata": {},
   "outputs": [],
   "source": [
    "max_state_number = state_to_id_mapping_df[\"state_id\"].max()"
   ]
  },
  {
   "cell_type": "code",
   "execution_count": 8,
   "metadata": {},
   "outputs": [
    {
     "name": "stdout",
     "output_type": "stream",
     "text": [
      "State code:  1\n",
      "State code:  2\n",
      "State code:  3\n",
      "State code:  4\n",
      "State code:  5\n",
      "State code:  6\n",
      "State code:  7\n",
      "State code:  8\n",
      "State code:  9\n",
      "State code:  10\n",
      "State code:  11\n",
      "State code:  12\n",
      "State code:  13\n",
      "State code:  14\n",
      "State code:  15\n",
      "State code:  16\n",
      "State code:  17\n",
      "State code:  18\n",
      "State code:  19\n",
      "State code:  20\n",
      "State code:  21\n",
      "State code:  22\n",
      "State code:  23\n",
      "State code:  24\n",
      "State code:  25\n",
      "State code:  26\n",
      "State code:  27\n",
      "State code:  28\n",
      "State code:  29\n",
      "State code:  30\n",
      "State code:  31\n",
      "State code:  32\n",
      "State code:  33\n",
      "State code:  34\n",
      "State code:  35\n",
      "State code:  36\n",
      "State code:  37\n"
     ]
    }
   ],
   "source": [
    "state_mapping_list = []\n",
    "for state_code in range(1,max_state_number+1):\n",
    "    print(\"State code: \", state_code)\n",
    "    response = requests.get(\"https://cdn-api.co-vin.in/api/v2/admin/location/districts/{}\".format(state_code),  \n",
    "                            headers=browser_header)\n",
    "    json_data = json.loads(response.text)\n",
    "    for i in json_data[\"districts\"]:\n",
    "        state_mapping_list.append([state_code, i[\"district_id\"], i[\"district_name\"]])"
   ]
  },
  {
   "cell_type": "code",
   "execution_count": 9,
   "metadata": {},
   "outputs": [],
   "source": [
    "df = pd.DataFrame(state_mapping_list, columns=[\"state_id\",\n",
    "                                               \"district id\", \n",
    "                                               \"district name\"])"
   ]
  },
  {
   "cell_type": "code",
   "execution_count": 10,
   "metadata": {},
   "outputs": [
    {
     "data": {
      "text/html": [
       "<div>\n",
       "<style scoped>\n",
       "    .dataframe tbody tr th:only-of-type {\n",
       "        vertical-align: middle;\n",
       "    }\n",
       "\n",
       "    .dataframe tbody tr th {\n",
       "        vertical-align: top;\n",
       "    }\n",
       "\n",
       "    .dataframe thead th {\n",
       "        text-align: right;\n",
       "    }\n",
       "</style>\n",
       "<table border=\"1\" class=\"dataframe\">\n",
       "  <thead>\n",
       "    <tr style=\"text-align: right;\">\n",
       "      <th></th>\n",
       "      <th>state_id</th>\n",
       "      <th>district id</th>\n",
       "      <th>district name</th>\n",
       "    </tr>\n",
       "  </thead>\n",
       "  <tbody>\n",
       "    <tr>\n",
       "      <th>0</th>\n",
       "      <td>1</td>\n",
       "      <td>3</td>\n",
       "      <td>Nicobar</td>\n",
       "    </tr>\n",
       "    <tr>\n",
       "      <th>1</th>\n",
       "      <td>1</td>\n",
       "      <td>1</td>\n",
       "      <td>North and Middle Andaman</td>\n",
       "    </tr>\n",
       "    <tr>\n",
       "      <th>2</th>\n",
       "      <td>1</td>\n",
       "      <td>2</td>\n",
       "      <td>South Andaman</td>\n",
       "    </tr>\n",
       "  </tbody>\n",
       "</table>\n",
       "</div>"
      ],
      "text/plain": [
       "   state_id  district id             district name\n",
       "0         1            3                   Nicobar\n",
       "1         1            1  North and Middle Andaman\n",
       "2         1            2             South Andaman"
      ]
     },
     "execution_count": 10,
     "metadata": {},
     "output_type": "execute_result"
    }
   ],
   "source": [
    "df.head(3)"
   ]
  },
  {
   "cell_type": "code",
   "execution_count": 11,
   "metadata": {},
   "outputs": [],
   "source": [
    "final_df = merge_dfs(df, \n",
    "                     state_to_id_mapping_df, \n",
    "                     \"state_id\", \n",
    "                     \"left\")"
   ]
  },
  {
   "cell_type": "code",
   "execution_count": 12,
   "metadata": {},
   "outputs": [
    {
     "data": {
      "text/html": [
       "<div>\n",
       "<style scoped>\n",
       "    .dataframe tbody tr th:only-of-type {\n",
       "        vertical-align: middle;\n",
       "    }\n",
       "\n",
       "    .dataframe tbody tr th {\n",
       "        vertical-align: top;\n",
       "    }\n",
       "\n",
       "    .dataframe thead th {\n",
       "        text-align: right;\n",
       "    }\n",
       "</style>\n",
       "<table border=\"1\" class=\"dataframe\">\n",
       "  <thead>\n",
       "    <tr style=\"text-align: right;\">\n",
       "      <th></th>\n",
       "      <th>state_id</th>\n",
       "      <th>district id</th>\n",
       "      <th>district name</th>\n",
       "      <th>state_name</th>\n",
       "    </tr>\n",
       "  </thead>\n",
       "  <tbody>\n",
       "    <tr>\n",
       "      <th>0</th>\n",
       "      <td>1</td>\n",
       "      <td>3</td>\n",
       "      <td>Nicobar</td>\n",
       "      <td>Andaman and Nicobar Islands</td>\n",
       "    </tr>\n",
       "    <tr>\n",
       "      <th>1</th>\n",
       "      <td>1</td>\n",
       "      <td>1</td>\n",
       "      <td>North and Middle Andaman</td>\n",
       "      <td>Andaman and Nicobar Islands</td>\n",
       "    </tr>\n",
       "    <tr>\n",
       "      <th>2</th>\n",
       "      <td>1</td>\n",
       "      <td>2</td>\n",
       "      <td>South Andaman</td>\n",
       "      <td>Andaman and Nicobar Islands</td>\n",
       "    </tr>\n",
       "  </tbody>\n",
       "</table>\n",
       "</div>"
      ],
      "text/plain": [
       "   state_id  district id             district name  \\\n",
       "0         1            3                   Nicobar   \n",
       "1         1            1  North and Middle Andaman   \n",
       "2         1            2             South Andaman   \n",
       "\n",
       "                    state_name  \n",
       "0  Andaman and Nicobar Islands  \n",
       "1  Andaman and Nicobar Islands  \n",
       "2  Andaman and Nicobar Islands  "
      ]
     },
     "execution_count": 12,
     "metadata": {},
     "output_type": "execute_result"
    }
   ],
   "source": [
    "final_df.head(3)"
   ]
  },
  {
   "cell_type": "code",
   "execution_count": 13,
   "metadata": {},
   "outputs": [],
   "source": [
    "final_df.rename({\"state_id\" : \"state id\",\n",
    "                 \"state_name\" : \"state name\"\n",
    "                },\n",
    "               inplace=True)"
   ]
  },
  {
   "cell_type": "code",
   "execution_count": 14,
   "metadata": {},
   "outputs": [],
   "source": [
    "final_df.to_csv(\"district_mapping.csv\", index=False)"
   ]
  }
 ],
 "metadata": {
  "kernelspec": {
   "display_name": "Python 3",
   "language": "python",
   "name": "python3"
  },
  "language_info": {
   "codemirror_mode": {
    "name": "ipython",
    "version": 3
   },
   "file_extension": ".py",
   "mimetype": "text/x-python",
   "name": "python",
   "nbconvert_exporter": "python",
   "pygments_lexer": "ipython3",
   "version": "3.8.3"
  }
 },
 "nbformat": 4,
 "nbformat_minor": 4
}
